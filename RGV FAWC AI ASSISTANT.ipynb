{
 "cells": [
  {
   "cell_type": "markdown",
   "id": "b36afa89",
   "metadata": {
    "jp-MarkdownHeadingCollapsed": true
   },
   "source": [
    "## A helpful AI Assistant for RGV Fishing Area and Waterway Cleanups\n",
    "\n",
    "* **Created by:** Paul Hitchcox\n",
    "* **For:** CSCI 3351\n",
    "* **At:** University of Texas Rio-Grande Valley"
   ]
  },
  {
   "cell_type": "markdown",
   "id": "58577271",
   "metadata": {},
   "source": [
    "## Setup"
   ]
  },
  {
   "cell_type": "code",
   "execution_count": 34,
   "id": "894d9aef",
   "metadata": {},
   "outputs": [
    {
     "name": "stdout",
     "output_type": "stream",
     "text": [
      "Note: you may need to restart the kernel to use updated packages.\n"
     ]
    }
   ],
   "source": [
    "%pip install -U --quiet pydantic openai gradio geocoder"
   ]
  },
  {
   "cell_type": "markdown",
   "id": "3656b0e0",
   "metadata": {},
   "source": [
    "## Database"
   ]
  },
  {
   "cell_type": "code",
   "execution_count": 4,
   "id": "e998ae2b-9b35-4fd6-9606-0ddbe38d47e9",
   "metadata": {},
   "outputs": [
    {
     "name": "stdout",
     "output_type": "stream",
     "text": [
      "Database and tables created successfully, and initial data inserted.\n"
     ]
    }
   ],
   "source": [
    "def create_database():\n",
    "    # Connect to SQLite database (or create it if it doesn't exist)\n",
    "    conn = sqlite3.connect('cleanup_schedule.db')\n",
    "    cursor = conn.cursor()\n",
    "\n",
    "    # Create tables\n",
    "    cursor.execute('''\n",
    "    CREATE TABLE IF NOT EXISTS events (\n",
    "        event_id INTEGER PRIMARY KEY AUTOINCREMENT,\n",
    "        event_name TEXT NOT NULL,\n",
    "        location TEXT NOT NULL,\n",
    "        event_date TEXT NOT NULL\n",
    "    );\n",
    "    ''')\n",
    "\n",
    "    cursor.execute('''\n",
    "    CREATE TABLE IF NOT EXISTS volunteers (\n",
    "        volunteer_id INTEGER PRIMARY KEY AUTOINCREMENT,\n",
    "        name TEXT NOT NULL,\n",
    "        email TEXT NOT NULL UNIQUE,\n",
    "        phone TEXT NOT NULL\n",
    "    );\n",
    "    ''')\n",
    "\n",
    "    cursor.execute('''\n",
    "    CREATE TABLE IF NOT EXISTS registered_volunteers (\n",
    "        volunteer_id INTEGER,\n",
    "        event_id INTEGER,\n",
    "        FOREIGN KEY(volunteer_id) REFERENCES volunteers(volunteer_id),\n",
    "        FOREIGN KEY(event_id) REFERENCES events(event_id)\n",
    "    );\n",
    "    ''')\n",
    "\n",
    "    # Commit changes\n",
    "    conn.commit()\n",
    "\n",
    "    # Generate and insert cleanup events\n",
    "    generate_cleanup_events(cursor)\n",
    "\n",
    "    # Commit changes and close the connection\n",
    "    conn.commit()\n",
    "    conn.close()\n",
    "\n",
    "    print(\"Database and tables created successfully, and initial data inserted.\")\n",
    "\n",
    "def generate_cleanup_events(cursor):\n",
    "    # Define the events you want to create\n",
    "    events = [\n",
    "        {\"event_name\": \"Puente de los Lobos and Gayman's Bridge Cleanup\", \"location\": \"Highway 48, Brownsville, Texas\", \"event_date\": \"2024-05-18\"},\n",
    "        {\"event_name\": \"Boca Chica Beach Cleanup\", \"location\": \"Highway 4, Brownsville, Texas\", \"event_date\": \"2024-10-25\"},\n",
    "        {\"event_name\": \"Jaime J. Zapata Boat Ramp\", \"location\": \"Highway 48, Brownsville, Texas\", \"event_date\": \"2024-9-8\"}\n",
    "    ]\n",
    "\n",
    "    for event in events:\n",
    "        cursor.execute('INSERT INTO events (event_name, location, event_date) VALUES (?, ?, ?)',\n",
    "                       (event[\"event_name\"], event[\"location\"], event[\"event_date\"]))\n",
    "\n",
    "create_database()"
   ]
  },
  {
   "cell_type": "code",
   "execution_count": 3,
   "id": "d8706a08-a69f-4e83-b168-253d6e7bfeb7",
   "metadata": {},
   "outputs": [
    {
     "name": "stdout",
     "output_type": "stream",
     "text": [
      "[]\n"
     ]
    }
   ],
   "source": [
    "from datetime import datetime\n",
    "from datetime import timedelta\n",
    "import sqlite3\n",
    "import re\n",
    "import geocoder\n",
    "\n",
    "def connect_db():\n",
    "    return sqlite3.connect('cleanup_schedule.db')\n",
    "\n",
    "def validate_phone_number(phone):\n",
    "    pattern = re.compile(r\"^\\(\\d{3}\\) \\d{3}-\\d{4}$\")\n",
    "    return pattern.match(phone) is not None\n",
    "\n",
    "def validate_date(date_text):\n",
    "    try:\n",
    "        datetime.strptime(date_text, \"%Y-%m-%d\")\n",
    "        return True\n",
    "    except ValueError:\n",
    "        return False\n",
    "\n",
    "def validate_address(address):\n",
    "    # Use the geocoder to get the location data\n",
    "    g = geocoder.osm(address)\n",
    "    if g.ok:\n",
    "        # Check if the address is in Edinburg, TX\n",
    "        if 'Edinburg' in g.city and 'Texas' in g.state:\n",
    "            return True, g.latlng\n",
    "        else:\n",
    "            return False, None\n",
    "    return False, None\n",
    "\n",
    "def is_slot_available(slot_id):\n",
    "    conn = connect_db()\n",
    "    cursor = conn.cursor()\n",
    "    cursor.execute('SELECT event_id FROM registered_volunteers WHERE event_id = ?', (slot_id,))\n",
    "    result = cursor.fetchone()\n",
    "    conn.close()\n",
    "    return result is None\n",
    "\n",
    "def register_volunteer(name: str, email: str, phone: str, event_id: int):\n",
    "    \"Attempts to register a volunteer for a cleanup event. All fields are required.\"\n",
    "\n",
    "    if not validate_phone_number(phone):\n",
    "        return \"Invalid phone number. Please provide a valid phone number in the format (XXX) XXX-XXXX.\"\n",
    "\n",
    "    valid_address, coordinates = validate_address(email)\n",
    "    if not valid_address:\n",
    "        return \"Invalid email address.\"\n",
    "\n",
    "    conn = connect_db()\n",
    "    cursor = conn.cursor()\n",
    "\n",
    "    try:\n",
    "        # Insert volunteer if not exists\n",
    "        cursor.execute('INSERT OR IGNORE INTO volunteers (name, email, phone) VALUES (?, ?, ?)', (name, email, phone))\n",
    "        volunteer_id = cursor.lastrowid\n",
    "\n",
    "        if volunteer_id == 0:\n",
    "            cursor.execute('SELECT volunteer_id FROM volunteers WHERE email = ?', (email,))\n",
    "            volunteer_id = cursor.fetchone()[0]\n",
    "\n",
    "        # Register the volunteer for the event\n",
    "        cursor.execute('INSERT INTO registered_volunteers (volunteer_id, event_id) VALUES (?, ?)', (volunteer_id, event_id))\n",
    "\n",
    "        conn.commit()\n",
    "    except sqlite3.Error as e:\n",
    "        conn.rollback()\n",
    "        conn.close()\n",
    "        return f\"An error occurred: {e}\"\n",
    "    finally:\n",
    "        conn.close()\n",
    "\n",
    "    return \"Successfully registered as a volunteer for the cleanup event.\"\n",
    "\n",
    "def get_available_events():\n",
    "    \"Returns all available cleanup events\"\n",
    "    conn = connect_db()\n",
    "    cursor = conn.cursor()\n",
    "\n",
    "    cursor.execute('SELECT event_id, event_name, location, event_date FROM events')\n",
    "    events = cursor.fetchall()\n",
    "\n",
    "    conn.close()\n",
    "\n",
    "    return [{\"event_id\": event_id, \"event_name\": event_name, \"location\": location, \"event_date\": event_date} for event_id, event_name, location, event_date in events]\n",
    "\n",
    "def get_registered_volunteers():\n",
    "    \"Returns all registered volunteers for cleanup events\"\n",
    "    conn = connect_db()\n",
    "    cursor = conn.cursor()\n",
    "\n",
    "    cursor.execute('''SELECT rv.volunteer_id, v.name, v.email, v.phone, e.event_name, e.location, e.event_date\n",
    "                      FROM registered_volunteers rv\n",
    "                      JOIN volunteers v ON rv.volunteer_id = v.volunteer_id\n",
    "                      JOIN events e ON rv.event_id = e.event_id\n",
    "                      ORDER BY e.event_date''')\n",
    "\n",
    "    volunteers = cursor.fetchall()\n",
    "    conn.close()\n",
    "\n",
    "    columns = [\"volunteer_id\", \"name\", \"email\", \"phone\", \"event_name\", \"location\", \"event_date\"]\n",
    "    volunteers_data = [dict(zip(columns, volunteer)) for volunteer in volunteers]\n",
    "\n",
    "    return volunteers_data\n",
    "\n",
    "# Example usage\n",
    "print(get_registered_volunteers())"
   ]
  },
  {
   "cell_type": "markdown",
   "id": "4b89003e",
   "metadata": {},
   "source": [
    "## Define Tools"
   ]
  },
  {
   "cell_type": "code",
   "execution_count": 5,
   "id": "3ea1dc4a",
   "metadata": {},
   "outputs": [
    {
     "name": "stdout",
     "output_type": "stream",
     "text": [
      "{'results': [{'id': 4688275, 'name': 'Edinburg', 'latitude': 26.30174, 'longitude': -98.16334, 'elevation': 30.0, 'feature_code': 'PPLA2', 'country_code': 'US', 'admin1_id': 4736286, 'admin2_id': 4697444, 'timezone': 'America/Chicago', 'population': 84497, 'postcodes': ['78539', '78540'], 'country_id': 6252001, 'country': 'United States', 'admin1': 'Texas', 'admin2': 'Hidalgo'}, {'id': 4257043, 'name': 'Edinburgh', 'latitude': 39.35422, 'longitude': -85.96666, 'elevation': 205.0, 'feature_code': 'PPL', 'country_code': 'US', 'admin1_id': 4921868, 'admin2_id': 4259727, 'admin3_id': 4254728, 'timezone': 'America/Indiana/Indianapolis', 'population': 4546, 'postcodes': ['46124'], 'country_id': 6252001, 'country': 'United States', 'admin1': 'Indiana', 'admin2': 'Johnson', 'admin3': 'Blue River Township'}, {'id': 4757240, 'name': 'Edinburg', 'latitude': 38.82095, 'longitude': -78.56585, 'elevation': 246.0, 'feature_code': 'PPL', 'country_code': 'US', 'admin1_id': 6254928, 'admin2_id': 4785252, 'timezone': 'America/New_York', 'population': 1069, 'postcodes': ['22824'], 'country_id': 6252001, 'country': 'United States', 'admin1': 'Virginia', 'admin2': 'Shenandoah'}, {'id': 4237687, 'name': 'Edinburg', 'latitude': 39.65727, 'longitude': -89.38953, 'elevation': 180.0, 'feature_code': 'PPL', 'country_code': 'US', 'admin1_id': 4896861, 'admin2_id': 4235793, 'admin3_id': 4234733, 'timezone': 'America/Chicago', 'population': 1051, 'postcodes': ['62531'], 'country_id': 6252001, 'country': 'United States', 'admin1': 'Illinois', 'admin2': 'Christian', 'admin3': 'Buckhart Township'}, {'id': 5059005, 'name': 'Edinburg', 'latitude': 48.49666, 'longitude': -97.86204, 'elevation': 363.0, 'feature_code': 'PPL', 'country_code': 'US', 'admin1_id': 5690763, 'admin2_id': 5062384, 'admin3_id': 5059006, 'timezone': 'America/Chicago', 'population': 189, 'postcodes': ['58227'], 'country_id': 6252001, 'country': 'United States', 'admin1': 'North Dakota', 'admin2': 'Walsh', 'admin3': 'City of Edinburg'}, {'id': 5188312, 'name': 'Edinburg', 'latitude': 41.0145, 'longitude': -80.43673, 'elevation': 242.0, 'feature_code': 'PPL', 'country_code': 'US', 'admin1_id': 6254927, 'admin2_id': 5197440, 'admin3_id': 5199542, 'timezone': 'America/New_York', 'postcodes': ['16116'], 'country_id': 6252001, 'country': 'United States', 'admin1': 'Pennsylvania', 'admin2': 'Lawrence', 'admin3': 'Mahoning Township'}, {'id': 5116248, 'name': 'Edinburg', 'latitude': 43.22174, 'longitude': -74.10402, 'elevation': 271.0, 'feature_code': 'PPL', 'country_code': 'US', 'admin1_id': 5128638, 'admin2_id': 5136325, 'admin3_id': 5116251, 'timezone': 'America/New_York', 'population': 1220, 'country_id': 6252001, 'country': 'United States', 'admin1': 'New York', 'admin2': 'Saratoga', 'admin3': 'Town of Edinburg'}, {'id': 5054853, 'name': 'Edinburg', 'latitude': 40.0814, 'longitude': -93.69383, 'elevation': 294.0, 'feature_code': 'PPL', 'country_code': 'US', 'admin1_id': 4398678, 'admin2_id': 5055285, 'admin3_id': 5056123, 'timezone': 'America/Chicago', 'population': 92, 'country_id': 6252001, 'country': 'United States', 'admin1': 'Missouri', 'admin2': 'Grundy', 'admin3': 'Township of Madison'}, {'id': 4425410, 'name': 'Edinburg', 'latitude': 32.7993, 'longitude': -89.33618, 'elevation': 115.0, 'feature_code': 'PPL', 'country_code': 'US', 'admin1_id': 4436296, 'admin2_id': 4433110, 'timezone': 'America/Chicago', 'country_id': 6252001, 'country': 'United States', 'admin1': 'Mississippi', 'admin2': 'Leake'}, {'id': 4855125, 'name': 'Edinburg', 'latitude': 42.13334, 'longitude': -91.13404, 'elevation': 315.0, 'feature_code': 'PPL', 'country_code': 'US', 'admin1_id': 4862182, 'admin2_id': 4862800, 'admin3_id': 4881071, 'timezone': 'America/Chicago', 'country_id': 6252001, 'country': 'United States', 'admin1': 'Iowa', 'admin2': 'Jones', 'admin3': 'Wayne Township'}], 'generationtime_ms': 1.0089874}\n"
     ]
    }
   ],
   "source": [
    "import requests\n",
    "\n",
    "def geocode(city_name:str):\n",
    "    \"Geocodes a city name into latitude and longitude data\"\n",
    "    url = f'https://geocoding-api.open-meteo.com/v1/search?name={city_name}&count=10&language=en&format=json'\n",
    "\n",
    "    try:\n",
    "        response = requests.get(url)\n",
    "\n",
    "        # If the response was successful, no Exception will be raised\n",
    "        response.raise_for_status()\n",
    "    except HTTPError as http_err:\n",
    "        print(f'HTTP error occurred: {http_err}')  \n",
    "    except Exception as err:\n",
    "        print(f'Other error occurred: {err}')  \n",
    "    else:\n",
    "        return response.json() # If successful, return json response\n",
    "    \n",
    "print(geocode(city_name=\"Edinburg\"))"
   ]
  },
  {
   "cell_type": "code",
   "execution_count": 6,
   "id": "3ddcea65",
   "metadata": {},
   "outputs": [
    {
     "name": "stdout",
     "output_type": "stream",
     "text": [
      "{'latitude': 26.309208, 'longitude': -98.153625, 'generationtime_ms': 0.030040740966796875, 'utc_offset_seconds': -18000, 'timezone': 'America/Chicago', 'timezone_abbreviation': 'CDT', 'elevation': 30.0, 'current_units': {'time': 'iso8601', 'interval': 'seconds', 'temperature_2m': '°C', 'is_day': '', 'precipitation': 'mm', 'rain': 'mm', 'showers': 'mm', 'snowfall': 'cm'}, 'current': {'time': '2024-05-19T20:00', 'interval': 900, 'temperature_2m': 31.4, 'is_day': 1, 'precipitation': 0.0, 'rain': 0.0, 'showers': 0.0, 'snowfall': 0.0}}\n"
     ]
    }
   ],
   "source": [
    "def weather(latitude:float, longitude:float):\n",
    "    \"Returns the weather conditions for a given latitude and longitude\"\n",
    "    url = f'https://api.open-meteo.com/v1/forecast?latitude={latitude}&longitude={longitude}&current=temperature_2m,is_day,precipitation,rain,showers,snowfall&timezone=America%2FChicago'\n",
    "\n",
    "    try:\n",
    "        response = requests.get(url)\n",
    "\n",
    "        # If the response was successful, no Exception will be raised\n",
    "        response.raise_for_status()\n",
    "    except HTTPError as http_err:\n",
    "        print(f'HTTP error occurred: {http_err}')  \n",
    "    except Exception as err:\n",
    "        print(f'Other error occurred: {err}')  \n",
    "    else:\n",
    "        return response.json() # If successful, return json response\n",
    "    \n",
    "print(weather(latitude=26.30174, longitude=-98.16334))"
   ]
  },
  {
   "cell_type": "code",
   "execution_count": 7,
   "id": "062e8cc2",
   "metadata": {},
   "outputs": [
    {
     "name": "stdout",
     "output_type": "stream",
     "text": [
      "May 19, 2024\n"
     ]
    }
   ],
   "source": [
    "from datetime import datetime\n",
    "from datetime import timedelta\n",
    "\n",
    "# gets todays date\n",
    "def get_todays_date():\n",
    "    \"Gets today's date\"\n",
    "    return datetime.now().strftime('%B %d, %Y')\n",
    "\n",
    "# Example:\n",
    "print(get_todays_date())"
   ]
  },
  {
   "cell_type": "code",
   "execution_count": 8,
   "id": "05b3cf3f",
   "metadata": {},
   "outputs": [
    {
     "name": "stdout",
     "output_type": "stream",
     "text": [
      "May 20, 2024\n"
     ]
    }
   ],
   "source": [
    "# gets tomorrows date\n",
    "def get_tomorrows_date():\n",
    "    \"Gets tomorrow's date\"\n",
    "    now = datetime.now()\n",
    "    tomorrow = now + timedelta(days=1)\n",
    "    return tomorrow.strftime('%B %d, %Y')\n",
    "\n",
    "print(get_tomorrows_date())"
   ]
  },
  {
   "cell_type": "code",
   "execution_count": 9,
   "id": "7e313c41",
   "metadata": {},
   "outputs": [
    {
     "name": "stdout",
     "output_type": "stream",
     "text": [
      "05/19/2024 08:02 PM\n"
     ]
    }
   ],
   "source": [
    "# gets the current time\n",
    "def get_current_time():\n",
    "    \"Gets the current time\"\n",
    "    return datetime.now().strftime(\"%m/%d/%Y %I:%M %p\")\n",
    "\n",
    "# Example:\n",
    "print(get_current_time())"
   ]
  },
  {
   "cell_type": "markdown",
   "id": "e7341e5a",
   "metadata": {},
   "source": [
    "## Format for OpenAI"
   ]
  },
  {
   "cell_type": "code",
   "execution_count": 10,
   "id": "867a26c4",
   "metadata": {},
   "outputs": [],
   "source": [
    "from pydantic import create_model\n",
    "import inspect, json\n",
    "from inspect import Parameter\n",
    "\n",
    "def schema(f):\n",
    "    kw = {n: (o.annotation, ... if o.default == Parameter.empty else o.default)\n",
    "          for n, o in inspect.signature(f).parameters.items()}\n",
    "    s = create_model(f'Input for `{f.__name__}`', **kw).model_json_schema()\n",
    "    function_schema = dict(name=f.__name__, description=f.__doc__, parameters=s)\n",
    "    return {\n",
    "        \"type\": \"function\",\n",
    "        \"function\": function_schema\n",
    "    }\n",
    "\n",
    "def call_func(name, arguments):\n",
    "    f = globals()[name]\n",
    "    return f(**json.loads(arguments))"
   ]
  },
  {
   "cell_type": "code",
   "execution_count": 11,
   "id": "206314d0",
   "metadata": {},
   "outputs": [],
   "source": [
    "import os\n",
    "from dotenv import load_dotenv\n",
    "\n",
    "load_dotenv(override=True)  # take environment variables from .env.\n",
    "\n",
    "from openai import OpenAI\n",
    "\n",
    "client = OpenAI(\n",
    "    base_url=os.getenv(\"OPENAI_API_BASE\"),\n",
    "    api_key=os.getenv(\"OPENAI_API_KEY\")\n",
    ")\n",
    "\n",
    "def chat_completion(\n",
    "    message,\n",
    "    model=\"gpt-4\",\n",
    "    prompt=\"You are a helpful assistant.\",\n",
    "    temperature=0,\n",
    "    messages=[],\n",
    "    tools=[]\n",
    "):\n",
    "    # Add the prompt to the messages list\n",
    "    if prompt is not None:\n",
    "        messages = [{\"role\": \"system\", \"content\": prompt}] + messages\n",
    "\n",
    "    if message is not None:\n",
    "        # Add the user's message to the messages list\n",
    "        messages += [{\"role\": \"user\", \"content\": message}]\n",
    "\n",
    "    # NEW\n",
    "    if tools:\n",
    "        tool_schemas = [schema(f) for f in tools]\n",
    "    else:\n",
    "        tool_schemas = None\n",
    "        \n",
    "    # Make an API call to the OpenAI ChatCompletion endpoint with the model and messages\n",
    "    print(f\"messages: {messages}\")\n",
    "    completion = client.chat.completions.create(\n",
    "        model=model,\n",
    "        messages=messages,\n",
    "        temperature=temperature,\n",
    "        tools=tool_schemas\n",
    "    )\n",
    "    \n",
    "    # Updated\n",
    "    assistant_message = completion.choices[0].message\n",
    "        \n",
    "    return assistant_message"
   ]
  },
  {
   "cell_type": "code",
   "execution_count": 15,
   "id": "750d9b51",
   "metadata": {},
   "outputs": [],
   "source": [
    "# Define a function to handle the chat interaction with the AI model\n",
    "def chat(message, chatbot_messages, history_state):\n",
    "    prompt = \"\"\"\n",
    "    You are a helpful AI assistant named Sparky created by RGV Fishing Area and Waterway Cleanups, a nonprofit organiztion in South Texas.\n",
    "\n",
    "    Today's date: {todays_date}\n",
    "    Current time: {current_time}\n",
    "    \n",
    "    ## Task\n",
    "    \n",
    "    Your job is to provide users and volunteers for waterway cleanup events with helpful and accurate information.\n",
    "    \n",
    "    Additionally, you will inform them of the board of directors, upcoming events, and sign people up for cleanups.\n",
    "    \n",
    "    As an AI assistant, you will make sure that people are not allowed to sign up for a past cleanup event.\n",
    "    \n",
    "    ## General Info\n",
    "    \n",
    "    RGV Fishing Area and Waterway cleanups was founded in 2018 when Richard Hitchcox decided to host his event at Gayman's bridge on Highway 48\n",
    "    in Brownsville. He has since hosted dozens of cleanups, established a board of directors, established the group as a Texas Domestic Nonprofit\n",
    "    organization, and has attracted attention to his cause through social media posts and local television interviews. \n",
    "\n",
    "    The link to group's Facebook page is: https://www.facebook.com/RGVFAWC\n",
    "    \n",
    "   \n",
    "    \n",
    "    ## Board of Directors\n",
    "\n",
    "    Richard Hitchcox - Managing Director and Founder - Richard is a retired US Army veteran and former forensic scientist for Texas DPS. \n",
    "    He founded the cleanup group in 2018 after relaizing the need for cleaning up the environment while fishing with his son Paul. He \n",
    "    has recently suffered a heart attack and underwent open heart surgery, so he is doing primarily administrative work for the group right now.\n",
    "\n",
    "    Paul - Hitchcox - Director - Paul is a 20 year old college student studying computer science at UTRGV in Edinburg, Texas. He is the son of \n",
    "    Richard Hitchcox, and he is the former president of the RGV Fishing Area and Waterway Cleanups Youth Advisory Council. When he turned 18, he \n",
    "    was made a Director. He helps manage registration, takes photos at events, and helps load and unload trucks as they fill up the dumpsters. \n",
    "    He also is the creator of Sparky.\n",
    "\n",
    "    Carlos Salinas - Director - Carlos Salinas is a former mechanical engineer and now local businessowner of Brownsville Bait and Tackle. He \n",
    "    has cooked hot dogs for volunteers at past events and has got the support of the local fishing industry through connections to boat captains\n",
    "    and lure makers in the RGV. He has also gone live on Facebook numerous times to promote upcoming events and has made promotional videos for the group.\n",
    "\n",
    "    Ramon de la Fuente - Director - Ramon is a mechanic and co-owner of De la Fuente Mechanic Shop in Brownsville, Texas. Ramon always brings \n",
    "    his large family out and fills up dumpsters full of trash his family and church community that he invites. He has cooked numerous chicken\n",
    "    plates and sides for the volunteers at some events, and he has helped get people unstuck from sand at Boca Chica Beach numerous times.\n",
    "    Ramon is very hard working.\n",
    "\n",
    "    Henry Rodriguez - Director - Henry is a local fishing captain, tour guide in Nuevo Progreso Tamaulipas, and tour guide for local vineyards in South\n",
    "    Texas. Henry has organized various events, created various decals and logos for the group, promoted the group on Facebook, and has brought \n",
    "    in a lot of clients from his jobs to come and support the cause. He has also led boat cleanups in order to cleanup that are inaccessible\n",
    "    by land by coordinating with local Texas paddling groups and other captains.\n",
    "\n",
    "    Noe Gonzalez - Director - Noe is a local fishing captain and the founder of the Bubba's South Texas Sportsman's group. Noe underwent a liver\n",
    "    transplant in 2017 after nearly dying due to extreme liver disease. With his new lease on life, Noe is giving everything he can to the \n",
    "    community, and he is very passionate about keeping Texas waterways clean. He uses his connections as a boat captain to attract volunteers\n",
    "    and raise support for the group.\n",
    "\n",
    "\n",
    "        \n",
    "    ## General Cleanup Information\n",
    "\n",
    "    At cleanups, volunteers can expect to sign a waiver form, be entered into a free raffle just for volunteering, enjoy a nice day of cleaning\n",
    "    up trash, be provided with sunscreen, insect repellant, reacher grabbers, trash bags, work gloves, nitrile gloves, snacks, waters, gatorade, and first aid,\n",
    "    and a warm and inviting atmosphere to return for further events. Most cleanup events go from 8 AM - 11 AM at various cleanup locations across \n",
    "    the valley. We often partner with Marine Military Academy, Girl Scouts of South Texas, Harmony School of Innovation, and various cleanup groups,\n",
    "    rotary clubs, and local government entities to accomplish our goals.\n",
    "    \n",
    "\n",
    "    \n",
    "    ## RGV Fishing Area and Waterway Cleanups Opportunities\n",
    "\n",
    "    Withing RGV Fishing Area and Waterway Cleanups, we have a youth advisory council that assists the board of directors in coordinating\n",
    "    cleanup events and getting youth in the RGV excited about cleanups. We also award and present the President's Volunteer Service Award to \n",
    "    individuals that meet the requirements based on volunteer hours. We also present certificates of appreciation to our local sponsors and \n",
    "    partners. In addition, we hold the annual South Texas Angler's Tournament (STAT) in order to raise funds for future cleanups and provide \n",
    "    families with a fun and safe fishing experience.\n",
    "\n",
    "\n",
    "\n",
    "    ## Signing up Users for Cleanups\n",
    "\n",
    "    You are being given the ability to access a database with tables for events and for registered volunteers. You may access the one with events\n",
    "    if asked about registering for future events. You can also get user input to register for them in the registered volunteers table. You can \n",
    "    show them past events by accessing the table. Make sure to ask for the email, phone number, and other fields before allowing them to register\n",
    "    \n",
    "    \n",
    "    \n",
    "    \"\"\".format(\n",
    "        todays_date=get_todays_date(),\n",
    "        current_time=get_current_time()\n",
    "    )\n",
    "    \n",
    "    # Initialize chatbot_messages and history_state if they are not provided\n",
    "    allowed_tools = [sum, weather, get_tomorrows_date, get_available_events_df, get_registered_volunteers_df]\n",
    "    chatbot_messages = chatbot_messages or []\n",
    "    history_state = history_state or []\n",
    "    \n",
    "    # Try to get the AI's reply using the chat_completion\n",
    "    try:\n",
    "        assistant_message = chat_completion(message, model=\"gpt-4\", prompt=prompt, messages=history_state, tools=allowed_tools)\n",
    "    except Exception as e:\n",
    "        # If an error occurs, raise a Gradio error\n",
    "        raise gr.Error(e)\n",
    "        \n",
    "    # UPDATED\n",
    "    while(assistant_message.tool_calls):\n",
    "        for tool_call in assistant_message.tool_calls:\n",
    "            tool_call_json = json.dumps({ \"name\": tool_call.function.name, \"arguments\": tool_call.function.arguments})\n",
    "            history_state.append({\"role\": assistant_message.role, \"content\": tool_call_json})\n",
    "            \n",
    "        for tool_call in assistant_message.tool_calls:\n",
    "            results = call_func(tool_call.function.name, tool_call.function.arguments)\n",
    "            results_str = str(results) # convert to string\n",
    "            history_state.append({\"role\": \"function\", \"tool_call_id\": tool_call.id, \"name\": tool_call.function.name, \"content\": results_str})\n",
    "\n",
    "        # Try to get the AI's reply using the get_ai_reply function\n",
    "        try:\n",
    "            assistant_message = chat_completion(None, model=\"gpt-4\", prompt=prompt, messages=history_state, tools=allowed_tools)\n",
    "        except Exception as e:\n",
    "            # If an error occurs, raise a Gradio error\n",
    "            raise gr.Error(e)\n",
    "        \n",
    "    # Append the user's message and the AI's reply to the chatbot_messages list\n",
    "    if(assistant_message.content):\n",
    "        chatbot_messages.append((message, assistant_message.content.strip()))\n",
    "    else:\n",
    "        chatbot_messages.append((message, None))\n",
    "    \n",
    "    # Append the user's message and the AI's reply to the history_state list\n",
    "    history_state.append({\"role\": \"user\", \"content\": message})\n",
    "    history_state.append({\"role\": \"assistant\", \"content\": assistant_message.content})\n",
    "    \n",
    "    # Return None (empty out the user's message textbox), the updated chatbot_messages, and the updated history_state\n",
    "    return None, chatbot_messages, history_state"
   ]
  },
  {
   "cell_type": "code",
   "execution_count": 16,
   "id": "930f0972",
   "metadata": {},
   "outputs": [
    {
     "name": "stdout",
     "output_type": "stream",
     "text": [
      "Running on local URL:  http://127.0.0.1:7861\n",
      "\n",
      "To create a public link, set `share=True` in `launch()`.\n"
     ]
    },
    {
     "data": {
      "text/html": [
       "<div><iframe src=\"http://127.0.0.1:7861/\" width=\"100%\" height=\"500\" allow=\"autoplay; camera; microphone; clipboard-read; clipboard-write;\" frameborder=\"0\" allowfullscreen></iframe></div>"
      ],
      "text/plain": [
       "<IPython.core.display.HTML object>"
      ]
     },
     "metadata": {},
     "output_type": "display_data"
    },
    {
     "data": {
      "text/plain": []
     },
     "execution_count": 16,
     "metadata": {},
     "output_type": "execute_result"
    },
    
  },
  {
   "cell_type": "code",
   "execution_count": null,
   "id": "d4a37e02",
   "metadata": {},
   "outputs": [],
   "source": []
  }
 ],
 "metadata": {
  "kernelspec": {
   "display_name": "Python 3 (ipykernel)",
   "language": "python",
   "name": "python3"
  },
  "language_info": {
   "codemirror_mode": {
    "name": "ipython",
    "version": 3
   },
   "file_extension": ".py",
   "mimetype": "text/x-python",
   "name": "python",
   "nbconvert_exporter": "python",
   "pygments_lexer": "ipython3",
   "version": "3.12.2"
  }
 },
 "nbformat": 4,
 "nbformat_minor": 5
}
